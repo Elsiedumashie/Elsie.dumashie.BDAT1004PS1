{
 "cells": [
  {
   "cell_type": "markdown",
   "id": "f8955a80",
   "metadata": {},
   "source": [
    "## Question 1\n",
    "What data type is each of the following (evaluate where necessary)?"
   ]
  },
  {
   "cell_type": "code",
   "execution_count": 34,
   "id": "31ef3ad4",
   "metadata": {},
   "outputs": [
    {
     "name": "stdout",
     "output_type": "stream",
     "text": [
      "<class 'int'>\n",
      "<class 'float'>\n",
      "<class 'bool'>\n",
      "<class 'str'>\n",
      "<class 'int'>\n",
      "<class 'str'>\n",
      "<class 'str'>\n",
      "<class 'float'>\n",
      "<class 'int'>\n",
      "<class 'set'>\n",
      "<class 'bool'>\n",
      "<class 'float'>\n"
     ]
    }
   ],
   "source": [
    "print(type(5))\n",
    "print(type(5.0))\n",
    "print(type(5>1))\n",
    "print(type('5'))\n",
    "print(type(5*2))\n",
    "print(type('5'*2))\n",
    "print(type('5'+'2') )\n",
    "print(type(5/2))\n",
    "print(type(5%2))\n",
    "print(type({5,2,1}))  #dictionary\n",
    "print(type(5==3))\n",
    "      \n",
    "import math\n",
    "print (type(math.pi))"
   ]
  },
  {
   "cell_type": "markdown",
   "id": "4d9268b4",
   "metadata": {},
   "source": [
    "## Question 2\n",
    "Write (and evaluate) python expressions that answer these questions: \n",
    "a. How many letters are there in 'Supercalifragilisticexpialidocious'?\n",
    "b. Does 'Supercalifragilisticexpialidocious' contain 'ice' as a substring?\n",
    "c. Which of the following words is the longest:\n",
    "Supercalifragilisticexpialidocious, Honorificabilitudinitatibus, or\n",
    "Bababadalgharaghtakamminarronnkonn?\n",
    "d. Which composer comes first in the dictionary: 'Berlioz', 'Borodin', 'Brian',\n",
    "'Bartok', 'Bellini', 'Buxtehude', 'Bernstein'. Which one comes last?"
   ]
  },
  {
   "cell_type": "code",
   "execution_count": 48,
   "id": "a93db1a4",
   "metadata": {
    "scrolled": true
   },
   "outputs": [
    {
     "name": "stdout",
     "output_type": "stream",
     "text": [
      "34\n",
      "yes Supercalifragilisticexpialidocious contains ice as a substring\n"
     ]
    }
   ],
   "source": [
    "#a\n",
    "words = 'Supercalifragilisticexpialidocious'\n",
    "len(words)\n",
    "print(len(words))\n",
    "#b\n",
    "if 'ice' in words:\n",
    "    print ('yes',words,'contains ice as a substring')\n",
    "else: \n",
    "    print ('no', words,'contains ice as a substring')\n",
    "\n",
    "\n"
   ]
  },
  {
   "cell_type": "code",
   "execution_count": 2,
   "id": "47ea757c",
   "metadata": {},
   "outputs": [
    {
     "name": "stdout",
     "output_type": "stream",
     "text": [
      "Supercalifragilisticexpialidocious is the  longest word\n"
     ]
    }
   ],
   "source": [
    "#c\n",
    "A='Supercalifragilisticexpialidocious'\n",
    "B='Honorificabilitudinitatibus'\n",
    "C='Bababadalgharaghtakamminarronnkonn'\n",
    "#find lenght of each\n",
    "def  longest(w):\n",
    "    res=max(w,key=len)\n",
    "    print(res,'is the  longest word')\n",
    "    \n",
    "List=[A,B,C]\n",
    "longest(List)"
   ]
  },
  {
   "cell_type": "code",
   "execution_count": 19,
   "id": "ad73c105",
   "metadata": {},
   "outputs": [
    {
     "name": "stdout",
     "output_type": "stream",
     "text": [
      "Bartok,Bellini,Berlioz,Bernstein,Borodin,Brian,Buxtehude\n",
      "Bartok comes first\n",
      "Buxtehude comes last\n"
     ]
    }
   ],
   "source": [
    "#d Which comes first\n",
    "d=['Berlioz', 'Borodin', 'Brian','Bartok', 'Bellini', 'Buxtehude', 'Bernstein']\n",
    "d.sort()\n",
    "\n",
    "#print(d.sort())\n",
    "print(','.join(d))\n",
    "\n",
    "print(d[0], 'comes first')\n",
    "\n",
    "#b Which comes last\n",
    "print(d[-1], 'comes last')\n",
    "\n",
    "\n",
    "\n",
    "\n",
    "\n"
   ]
  },
  {
   "cell_type": "markdown",
   "id": "7b983e79",
   "metadata": {},
   "source": [
    "## Question 3\n",
    "Implement function triangleArea(a,b,c) that takes as input the lengths of the 3\n",
    "sides of a triangle and returns the area of the triangle. By Heron's formula, the area\n",
    "of a triangle with side lengths a, b, and c is\n",
    "s(s - a)(s -b)(s -c), where\n",
    "s = (a +b + c) /2.\n",
    ">>> triangleArea(2,2,2)\n",
    "1.7320508075688772"
   ]
  },
  {
   "cell_type": "code",
   "execution_count": 28,
   "id": "cd9e5046",
   "metadata": {},
   "outputs": [
    {
     "data": {
      "text/plain": [
       "1.7320508075688772"
      ]
     },
     "execution_count": 28,
     "metadata": {},
     "output_type": "execute_result"
    }
   ],
   "source": [
    "def triangleArea(a,b,c,):\n",
    "    s= int((a +b+c)/2)\n",
    "    area = int(s*(s-a)*(s-b)*(s-c))**0.5\n",
    "    return area\n",
    "triangleArea(2,2,2,)"
   ]
  },
  {
   "cell_type": "markdown",
   "id": "6daf4887",
   "metadata": {},
   "source": [
    "## Question 4 \n",
    "\n",
    "Write a program in python to separate odd and even integers in separate arrays. Go to the editor\\\n",
    "Test Data :\\\n",
    "Input the number of elements to be stored in the array : 5\\\n",
    "Input 5 elements in the array :\\\n",
    "element - 0 : 25\\\n",
    "element - 1 : 47\\\n",
    "element - 2 : 42\\\n",
    "element - 3 : 56\\\n",
    "element - 4 : 32\\\n",
    "Expected Output:\\\n",
    "The Even elements are:\\\n",
    "42 56 32\\\n",
    "The Odd elements are :\\\n",
    "25 47\n",
    "\n"
   ]
  },
  {
   "cell_type": "code",
   "execution_count": 171,
   "id": "4e6c5608",
   "metadata": {},
   "outputs": [
    {
     "name": "stdout",
     "output_type": "stream",
     "text": [
      "input the number of elements to be stored in the array5\n",
      "input 5 elements in the array\n",
      "element -0 :25\n",
      "element -1 :47\n",
      "element -2 :42\n",
      "element -3 :56\n",
      "element -4 :32\n",
      "[25, 47, 42, 56, 32]\n",
      "The even elements are [42, 56, 32]\n",
      "The odd elements are [25, 47]\n"
     ]
    }
   ],
   "source": [
    "n=int(input('input the number of elements to be stored in the array'))\n",
    "print('input', n,'elements in the array')\n",
    "array=[]  #array\n",
    "for j in range(n):\n",
    "    b = int(input('element -' + str(j) +' :'))\n",
    "    array.append(b)\n",
    "print(array)\n",
    "\n",
    "even=[]\n",
    "odd=[]\n",
    "for x in array:\n",
    "    if x%2 == 0:\n",
    "        even.append(x)\n",
    "    else:\n",
    "        odd.append(x)\n",
    "            \n",
    "print('The even elements are',even)\n",
    "print('The odd elements are',odd)\n",
    "    \n",
    "    \n",
    "    \n",
    "    \n"
   ]
  },
  {
   "cell_type": "markdown",
   "id": "f51007d5",
   "metadata": {},
   "source": [
    "# Question 5\n",
    "Write a function inside(x,y,x1,y1,x2,y2) that returns True or False depending on whether the point (x,y) lies in the rectangle with lower left corner (x1,y1) and upper right corner (x2,y2).\n",
    ">>> inside(1,1,0,0,2,3)\n",
    "True\n",
    ">>> inside(-1,-1,0,0,2,3)\n",
    "False\n",
    "b. Use function inside() from part a. to write an expression that tests whether the point (1,1) lies in both of the following rectangles: one with lower left corner (0.3, 0.5) and upper right corner (1.1, 0.7) and the other with lower left corner (0.5, 0.2) and upper right corner (1.1, 2)"
   ]
  },
  {
   "cell_type": "code",
   "execution_count": 192,
   "id": "856c2d2a",
   "metadata": {},
   "outputs": [
    {
     "name": "stdout",
     "output_type": "stream",
     "text": [
      "True\n",
      "False\n",
      "lies in both rectangles\n",
      "lies in both rectangles\n"
     ]
    }
   ],
   "source": [
    "def inside (x,y,x1,y1,x2,y2):\n",
    "    #lower left(x1,y1), upper right(x2,y2)\n",
    "    if (x > x1 and x < x2 and y> y1 and x < x2):\n",
    "        return True\n",
    "    else:\n",
    "        return False\n",
    "    \n",
    "print(inside(1, 1, 0, 0, 2, 3))\n",
    "print(inside(-1, -1, 0, 0, 2, 3))\n",
    "\n",
    "#Part B\n",
    "if inside(1, 1, 0.3, 0.5, 1.1, 0.7) == True:\n",
    "    print('lies in both rectangles')\n",
    "else:\n",
    "    print('doesnot lie in both rectangles')\n",
    "    \n",
    "if inside(1, 1, 0.5, 0.2, 1.1,2) == True:\n",
    "    print('lies in both rectangles')\n",
    "else:\n",
    "    print('doesnot lie in both rectangles')\n",
    "    "
   ]
  },
  {
   "cell_type": "markdown",
   "id": "fde0f1bd",
   "metadata": {},
   "source": [
    "## Question 6\n",
    "16. You can turn a word into pig-Latin using the following two rules (simplified):\n",
    "• If the word starts with a consonant, move that letter to the end and append 'ay'. For example, 'happy' becomes 'appyhay' and 'pencil' becomes 'encilpay'.\n",
    "• If the word starts with a vowel, simply append 'way' to the end of the word. For example, 'enter' becomes 'enterway' and 'other' becomes 'otherway' . For our purposes, there are returns its5 vowels: a, e, i, o, u (so we count y as a consonant).\n",
    "Write a function pig() that takes a word (i.e., a string) as input and  pig-Latin form. Your function should still work if the input word contains upper case characters. Your output should always be lower case however.\n",
    ">>> pig('happy')\n",
    "'appyhay'\n",
    ">>> pig('Enter')\n",
    "'enterway'"
   ]
  },
  {
   "cell_type": "code",
   "execution_count": 214,
   "id": "d1142f01",
   "metadata": {},
   "outputs": [
    {
     "name": "stdout",
     "output_type": "stream",
     "text": [
      "appyay\n",
      "enterway\n"
     ]
    }
   ],
   "source": [
    "def pig(word):\n",
    "    word= word.lower()\n",
    "    if word[0] in ('a','e','i','o','u'):\n",
    "        word= word + 'way'\n",
    "    else:\n",
    "        word =word[1:] + 'ay'\n",
    "    return word\n",
    "        \n",
    "print(pig('happy'))\n",
    "print(pig('Enter'))\n"
   ]
  },
  {
   "cell_type": "markdown",
   "id": "3b3dad97",
   "metadata": {},
   "source": [
    "## Question 7\n",
    "File bloodtype1.txt records blood-types of patients (A, B, AB, O or OO) at a clinic. Write a function bldcount() that reads the file with name name and reports (i.e., prints) how many patients there are in each bloodtype.\n",
    ">>> bldcount('bloodtype.txt')\n",
    "There are 10 patients of blood type A.\n",
    "There is one patient of blood type B.\n",
    "There are 10 patients of blood type AB.\n",
    "There are 12 patients of blood type O.\n",
    "There are no patients of blood type OO."
   ]
  },
  {
   "cell_type": "code",
   "execution_count": 12,
   "id": "78c7056f",
   "metadata": {},
   "outputs": [
    {
     "name": "stdout",
     "output_type": "stream",
     "text": [
      "There are 15 patients of blood type A.\n",
      "There are 1 patients of blood type B.\n",
      "There are 13 patients of blood type AB.\n",
      "There are 15 patients of blood type O.\n",
      "There are 0 patients of blood type OO.\n"
     ]
    }
   ],
   "source": [
    "def bldcount(filename):\n",
    "    infile = open(filename,'r')\n",
    "\n",
    "    content = infile.read()\n",
    "    infile.close()\n",
    "\n",
    "    A = 0\n",
    "    B = 0\n",
    "    AB = 0\n",
    "    O= 0\n",
    "    OO =0\n",
    "    for blood in content.split(' '):\n",
    "        if blood == 'A':\n",
    "            A +=1\n",
    "        if blood == 'B':\n",
    "            B +=1\n",
    "        if blood == 'AB':\n",
    "            AB +=1\n",
    "        if blood == 'O':\n",
    "            O +=1\n",
    "        if blood == 'OO':\n",
    "            OO +=1\n",
    "    \n",
    "    print(\"There are \" + str(A) + \" patients of blood type A.\")\n",
    "    print(\"There are \" + str(B) + \" patients of blood type B.\")\n",
    "    print(\"There are \" + str(AB) + \" patients of blood type AB.\")\n",
    "    print(\"There are \" + str(O) + \" patients of blood type O.\")\n",
    "    print(\"There are \" + str(OO) + \" patients of blood type OO.\")\n",
    "\n",
    "bldcount('bloodtype1.txt')"
   ]
  },
  {
   "cell_type": "markdown",
   "id": "8d982e1a",
   "metadata": {},
   "source": [
    "## Question 8\n",
    "Write a function curconv() that takes as input:\n",
    "1. a currency represented using a string (e.g., 'JPY' for the Japanese Yen or 'EUR' for the Euro)\n",
    "2. an amount\n",
    "and then converts and returns the amount in US dollars.\n",
    ">>> curconv('EUR', 100)\n",
    "122.96544\n",
    ">>> curconv('JPY', 100)\n",
    "1.241401\n",
    "The currency rates you will need are stored in file currencies.txt:"
   ]
  },
  {
   "cell_type": "code",
   "execution_count": 36,
   "id": "ddba3569",
   "metadata": {},
   "outputs": [
    {
     "name": "stdout",
     "output_type": "stream",
     "text": [
      "122.96544\n",
      "1.241401\n"
     ]
    }
   ],
   "source": [
    "\n",
    "def curconv(currency, amount):\n",
    "  convert = open(\"currencies.txt\", \"r\")\n",
    "\n",
    "  #Create dictionary of currency -> amount\n",
    "  conversion = {}\n",
    "  for line in convert.readlines():\n",
    "    #Split by space and get the first and second\n",
    "    curr = line.split('\\t')[0]\n",
    "    conversion_rate = float(line.split('\\t')[1]) \n",
    "\n",
    "    #Add to dictionary\n",
    "    conversion[curr] = conversion_rate\n",
    "\n",
    "  convert.close()\n",
    "\n",
    "  USD_amount = amount * conversion[currency]\n",
    "\n",
    "  return USD_amount\n",
    "\n",
    "print(curconv('EUR', 100))\n",
    "print(curconv('JPY', 100))\n",
    "    \n",
    "    \n",
    "    #to convert currency to usd$\n",
    "    "
   ]
  },
  {
   "cell_type": "markdown",
   "id": "5bb4e169",
   "metadata": {},
   "source": [
    "## Question 9\n",
    "Each of the following will cause an exception (an error). Identify what type of exception each will cause.\n",
    "Trying to add incompatible variables, as in\n",
    "adding 6 + ‘a’\n",
    "Referring to the 12\n",
    "th item of a list that has only 10\n",
    "items\n",
    "Using a value that is out of range for a functi\n",
    "on’s\n",
    "input, such as calling math.sqrt( 1.0)\n",
    "Using an undeclared variable, such as\n",
    "p rint(x)\n",
    "when x has not been defined\n",
    "Trying to open a file that does not exist, such as\n",
    "mistyping the file name or looking in the wrong\n",
    "directory."
   ]
  },
  {
   "cell_type": "markdown",
   "id": "6faa1b8b",
   "metadata": {},
   "source": [
    " ## Answer \n",
    " a. 6+'a' -Type Error  \n",
    " b lst=[0,1,2,3,4,5,6,7,8,9]  \n",
    " lst[12]-list index out of range  \n",
    " c math.sqrt( -1.0)-math domain error  \n",
    " d print(f)-NameError: name 'f' is not defined  \n",
    " e FileNotFoundError: [Errno 2] No such file or directory: 'currency.txt'FileNotFoundError    "
   ]
  },
  {
   "cell_type": "markdown",
   "id": "23bcbe61",
   "metadata": {},
   "source": [
    "## Question 10\n",
    "Encryption is the process of hiding the meaning of a text by substituting letters in the message with other letters, according to some system. If the process is successful, no one but the intended recipient can understand the encrypted message. Cryptanalysis refers to attempts to undo the encryption, even if some details of the encryption are unknown (for example, if an encrypted message has been intercepted). The first step of cryptanalysis is often to build up a table of letter frequencies in the encrypted text. Assume that the string letters is already defined as 'abcdefghijklmnopqrstuvwxyz'. Write a function called frequencies() that takes a string as its only parameter, and returns a list of integers, showing the number of times each character appears in the text. Your function may ignore any characters that are not in letters.\n",
    ">>> frequencies('The quick red fox got bored and went home.')\n",
    "[1, 1, 1, 3, 5, 1, 1, 2, 1, 0, 1, 0, 1, 2, 4, 0, 1, 2, 0, 2, 1, 0, 1, 1, 0, 0]\n",
    ">>> frequencies('apple')"
   ]
  },
  {
   "cell_type": "code",
   "execution_count": 19,
   "id": "d3c0aa41",
   "metadata": {},
   "outputs": [
    {
     "name": "stdout",
     "output_type": "stream",
     "text": [
      "[1, 1, 1, 3, 5, 1, 1, 2, 1, 0, 1, 0, 1, 2, 4, 0, 1, 2, 0, 2, 1, 0, 1, 1, 0, 0]\n",
      "[1, 0, 0, 0, 1, 0, 0, 0, 0, 0, 0, 1, 0, 0, 0, 2, 0, 0, 0, 0, 0, 0, 0, 0, 0, 0]\n"
     ]
    }
   ],
   "source": [
    "def frequencies(string):\n",
    "    #string is the parameters\n",
    "    letters ='abcdefghijklmnopqrstuvwxyz'\n",
    "\n",
    "    array1 = []\n",
    "    for i in letters:\n",
    "     count = 0\n",
    "     for x in string:\n",
    "       if x == i:\n",
    "        count += 1\n",
    "\n",
    "     array1.append(count)\n",
    "    return array1\n",
    "print(frequencies('The quick red fox got bored and went home.'))\n",
    "print(frequencies('apple'))\n",
    "        "
   ]
  }
 ],
 "metadata": {
  "kernelspec": {
   "display_name": "Python 3 (ipykernel)",
   "language": "python",
   "name": "python3"
  },
  "language_info": {
   "codemirror_mode": {
    "name": "ipython",
    "version": 3
   },
   "file_extension": ".py",
   "mimetype": "text/x-python",
   "name": "python",
   "nbconvert_exporter": "python",
   "pygments_lexer": "ipython3",
   "version": "3.11.4"
  }
 },
 "nbformat": 4,
 "nbformat_minor": 5
}
